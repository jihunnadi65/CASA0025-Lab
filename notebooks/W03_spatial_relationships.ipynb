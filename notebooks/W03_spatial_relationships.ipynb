{
  "cells": [
    {
      "cell_type": "markdown",
      "metadata": {
        "id": "view-in-github",
        "colab_type": "text"
      },
      "source": [
        "<a href=\"https://colab.research.google.com/github/jihunnadi65/CASA0025-Lab/blob/main/notebooks/W03_spatial_relationships.ipynb\" target=\"_parent\"><img src=\"https://colab.research.google.com/assets/colab-badge.svg\" alt=\"Open In Colab\"/></a>"
      ]
    },
    {
      "cell_type": "markdown",
      "metadata": {
        "id": "6JDPVQfiAMwq"
      },
      "source": [
        "# Spatial Relationships\n",
        "\n",
        "## Introduction\n",
        "\n",
        "This notebook demonstrates how to analyze spatial relationships between features in a dataset.\n",
        "\n",
        "## Installation\n",
        "\n",
        "Uncomment the following cell to install the required packages if needed."
      ],
      "id": "6JDPVQfiAMwq"
    },
    {
      "cell_type": "code",
      "execution_count": 1,
      "metadata": {
        "colab": {
          "base_uri": "https://localhost:8080/"
        },
        "id": "DmREYA4HAMws",
        "outputId": "dc8e5179-d32f-4d95-c126-05af02fcd9d2"
      },
      "outputs": [
        {
          "output_type": "stream",
          "name": "stdout",
          "text": [
            "Requirement already satisfied: duckdb in /usr/local/lib/python3.11/dist-packages (1.1.3)\n",
            "Collecting leafmap\n",
            "  Downloading leafmap-0.42.7-py2.py3-none-any.whl.metadata (16 kB)\n",
            "Collecting anywidget (from leafmap)\n",
            "  Downloading anywidget-0.9.13-py3-none-any.whl.metadata (7.2 kB)\n",
            "Requirement already satisfied: bqplot in /usr/local/lib/python3.11/dist-packages (from leafmap) (0.12.44)\n",
            "Requirement already satisfied: colour in /usr/local/lib/python3.11/dist-packages (from leafmap) (0.1.5)\n",
            "Requirement already satisfied: folium in /usr/local/lib/python3.11/dist-packages (from leafmap) (0.19.4)\n",
            "Requirement already satisfied: gdown in /usr/local/lib/python3.11/dist-packages (from leafmap) (5.2.0)\n",
            "Collecting geojson (from leafmap)\n",
            "  Downloading geojson-3.2.0-py3-none-any.whl.metadata (16 kB)\n",
            "Requirement already satisfied: ipyevents in /usr/local/lib/python3.11/dist-packages (from leafmap) (2.0.2)\n",
            "Requirement already satisfied: ipyfilechooser in /usr/local/lib/python3.11/dist-packages (from leafmap) (0.6.0)\n",
            "Requirement already satisfied: ipyleaflet in /usr/local/lib/python3.11/dist-packages (from leafmap) (0.19.2)\n",
            "Collecting ipyvuetify (from leafmap)\n",
            "  Downloading ipyvuetify-1.10.0-py2.py3-none-any.whl.metadata (7.5 kB)\n",
            "Requirement already satisfied: ipywidgets in /usr/local/lib/python3.11/dist-packages (from leafmap) (7.7.1)\n",
            "Requirement already satisfied: matplotlib in /usr/local/lib/python3.11/dist-packages (from leafmap) (3.10.0)\n",
            "Requirement already satisfied: numpy in /usr/local/lib/python3.11/dist-packages (from leafmap) (1.26.4)\n",
            "Requirement already satisfied: pandas in /usr/local/lib/python3.11/dist-packages (from leafmap) (2.2.2)\n",
            "Requirement already satisfied: plotly in /usr/local/lib/python3.11/dist-packages (from leafmap) (5.24.1)\n",
            "Requirement already satisfied: psutil in /usr/local/lib/python3.11/dist-packages (from leafmap) (5.9.5)\n",
            "Requirement already satisfied: pyshp in /usr/local/lib/python3.11/dist-packages (from leafmap) (2.3.1)\n",
            "Collecting pystac-client (from leafmap)\n",
            "  Downloading pystac_client-0.8.5-py3-none-any.whl.metadata (5.1 kB)\n",
            "Requirement already satisfied: python-box in /usr/local/lib/python3.11/dist-packages (from leafmap) (7.3.2)\n",
            "Requirement already satisfied: scooby in /usr/local/lib/python3.11/dist-packages (from leafmap) (0.10.0)\n",
            "Collecting whiteboxgui (from leafmap)\n",
            "  Downloading whiteboxgui-2.3.0-py2.py3-none-any.whl.metadata (5.7 kB)\n",
            "Requirement already satisfied: xyzservices in /usr/local/lib/python3.11/dist-packages (from leafmap) (2025.1.0)\n",
            "Collecting psygnal>=0.8.1 (from anywidget->leafmap)\n",
            "  Downloading psygnal-0.11.1-cp311-cp311-manylinux_2_17_x86_64.manylinux2014_x86_64.whl.metadata (7.2 kB)\n",
            "Requirement already satisfied: typing-extensions>=4.2.0 in /usr/local/lib/python3.11/dist-packages (from anywidget->leafmap) (4.12.2)\n",
            "Requirement already satisfied: ipykernel>=4.5.1 in /usr/local/lib/python3.11/dist-packages (from ipywidgets->leafmap) (5.5.6)\n",
            "Requirement already satisfied: ipython-genutils~=0.2.0 in /usr/local/lib/python3.11/dist-packages (from ipywidgets->leafmap) (0.2.0)\n",
            "Requirement already satisfied: traitlets>=4.3.1 in /usr/local/lib/python3.11/dist-packages (from ipywidgets->leafmap) (5.7.1)\n",
            "Requirement already satisfied: widgetsnbextension~=3.6.0 in /usr/local/lib/python3.11/dist-packages (from ipywidgets->leafmap) (3.6.10)\n",
            "Requirement already satisfied: ipython>=4.0.0 in /usr/local/lib/python3.11/dist-packages (from ipywidgets->leafmap) (7.34.0)\n",
            "Requirement already satisfied: jupyterlab-widgets>=1.0.0 in /usr/local/lib/python3.11/dist-packages (from ipywidgets->leafmap) (3.0.13)\n",
            "Requirement already satisfied: traittypes>=0.0.6 in /usr/local/lib/python3.11/dist-packages (from bqplot->leafmap) (0.2.1)\n",
            "Requirement already satisfied: python-dateutil>=2.8.2 in /usr/local/lib/python3.11/dist-packages (from pandas->leafmap) (2.8.2)\n",
            "Requirement already satisfied: pytz>=2020.1 in /usr/local/lib/python3.11/dist-packages (from pandas->leafmap) (2024.2)\n",
            "Requirement already satisfied: tzdata>=2022.7 in /usr/local/lib/python3.11/dist-packages (from pandas->leafmap) (2025.1)\n",
            "Requirement already satisfied: branca>=0.6.0 in /usr/local/lib/python3.11/dist-packages (from folium->leafmap) (0.8.1)\n",
            "Requirement already satisfied: jinja2>=2.9 in /usr/local/lib/python3.11/dist-packages (from folium->leafmap) (3.1.5)\n",
            "Requirement already satisfied: requests in /usr/local/lib/python3.11/dist-packages (from folium->leafmap) (2.32.3)\n",
            "Requirement already satisfied: beautifulsoup4 in /usr/local/lib/python3.11/dist-packages (from gdown->leafmap) (4.12.3)\n",
            "Requirement already satisfied: filelock in /usr/local/lib/python3.11/dist-packages (from gdown->leafmap) (3.17.0)\n",
            "Requirement already satisfied: tqdm in /usr/local/lib/python3.11/dist-packages (from gdown->leafmap) (4.67.1)\n",
            "Requirement already satisfied: jupyter-leaflet<0.20,>=0.19 in /usr/local/lib/python3.11/dist-packages (from ipyleaflet->leafmap) (0.19.2)\n",
            "Collecting ipyvue<2,>=1.7 (from ipyvuetify->leafmap)\n",
            "  Downloading ipyvue-1.11.2-py2.py3-none-any.whl.metadata (1.1 kB)\n",
            "Requirement already satisfied: contourpy>=1.0.1 in /usr/local/lib/python3.11/dist-packages (from matplotlib->leafmap) (1.3.1)\n",
            "Requirement already satisfied: cycler>=0.10 in /usr/local/lib/python3.11/dist-packages (from matplotlib->leafmap) (0.12.1)\n",
            "Requirement already satisfied: fonttools>=4.22.0 in /usr/local/lib/python3.11/dist-packages (from matplotlib->leafmap) (4.55.4)\n",
            "Requirement already satisfied: kiwisolver>=1.3.1 in /usr/local/lib/python3.11/dist-packages (from matplotlib->leafmap) (1.4.8)\n",
            "Requirement already satisfied: packaging>=20.0 in /usr/local/lib/python3.11/dist-packages (from matplotlib->leafmap) (24.2)\n",
            "Requirement already satisfied: pillow>=8 in /usr/local/lib/python3.11/dist-packages (from matplotlib->leafmap) (11.1.0)\n",
            "Requirement already satisfied: pyparsing>=2.3.1 in /usr/local/lib/python3.11/dist-packages (from matplotlib->leafmap) (3.2.1)\n",
            "Requirement already satisfied: tenacity>=6.2.0 in /usr/local/lib/python3.11/dist-packages (from plotly->leafmap) (9.0.0)\n",
            "Collecting pystac>=1.10.0 (from pystac[validation]>=1.10.0->pystac-client->leafmap)\n",
            "  Downloading pystac-1.12.0-py3-none-any.whl.metadata (4.6 kB)\n",
            "Requirement already satisfied: ipytree in /usr/local/lib/python3.11/dist-packages (from whiteboxgui->leafmap) (0.2.2)\n",
            "Collecting whitebox (from whiteboxgui->leafmap)\n",
            "  Downloading whitebox-2.3.5-py2.py3-none-any.whl.metadata (10 kB)\n",
            "Requirement already satisfied: jupyter-client in /usr/local/lib/python3.11/dist-packages (from ipykernel>=4.5.1->ipywidgets->leafmap) (6.1.12)\n",
            "Requirement already satisfied: tornado>=4.2 in /usr/local/lib/python3.11/dist-packages (from ipykernel>=4.5.1->ipywidgets->leafmap) (6.3.3)\n",
            "Requirement already satisfied: setuptools>=18.5 in /usr/local/lib/python3.11/dist-packages (from ipython>=4.0.0->ipywidgets->leafmap) (75.1.0)\n",
            "Collecting jedi>=0.16 (from ipython>=4.0.0->ipywidgets->leafmap)\n",
            "  Downloading jedi-0.19.2-py2.py3-none-any.whl.metadata (22 kB)\n",
            "Requirement already satisfied: decorator in /usr/local/lib/python3.11/dist-packages (from ipython>=4.0.0->ipywidgets->leafmap) (4.4.2)\n",
            "Requirement already satisfied: pickleshare in /usr/local/lib/python3.11/dist-packages (from ipython>=4.0.0->ipywidgets->leafmap) (0.7.5)\n",
            "Requirement already satisfied: prompt-toolkit!=3.0.0,!=3.0.1,<3.1.0,>=2.0.0 in /usr/local/lib/python3.11/dist-packages (from ipython>=4.0.0->ipywidgets->leafmap) (3.0.50)\n",
            "Requirement already satisfied: pygments in /usr/local/lib/python3.11/dist-packages (from ipython>=4.0.0->ipywidgets->leafmap) (2.18.0)\n",
            "Requirement already satisfied: backcall in /usr/local/lib/python3.11/dist-packages (from ipython>=4.0.0->ipywidgets->leafmap) (0.2.0)\n",
            "Requirement already satisfied: matplotlib-inline in /usr/local/lib/python3.11/dist-packages (from ipython>=4.0.0->ipywidgets->leafmap) (0.1.7)\n",
            "Requirement already satisfied: pexpect>4.3 in /usr/local/lib/python3.11/dist-packages (from ipython>=4.0.0->ipywidgets->leafmap) (4.9.0)\n",
            "Requirement already satisfied: MarkupSafe>=2.0 in /usr/local/lib/python3.11/dist-packages (from jinja2>=2.9->folium->leafmap) (3.0.2)\n",
            "Requirement already satisfied: jsonschema~=4.18 in /usr/local/lib/python3.11/dist-packages (from pystac[validation]>=1.10.0->pystac-client->leafmap) (4.23.0)\n",
            "Requirement already satisfied: six>=1.5 in /usr/local/lib/python3.11/dist-packages (from python-dateutil>=2.8.2->pandas->leafmap) (1.17.0)\n",
            "Requirement already satisfied: charset-normalizer<4,>=2 in /usr/local/lib/python3.11/dist-packages (from requests->folium->leafmap) (3.4.1)\n",
            "Requirement already satisfied: idna<4,>=2.5 in /usr/local/lib/python3.11/dist-packages (from requests->folium->leafmap) (3.10)\n",
            "Requirement already satisfied: urllib3<3,>=1.21.1 in /usr/local/lib/python3.11/dist-packages (from requests->folium->leafmap) (2.3.0)\n",
            "Requirement already satisfied: certifi>=2017.4.17 in /usr/local/lib/python3.11/dist-packages (from requests->folium->leafmap) (2024.12.14)\n",
            "Requirement already satisfied: notebook>=4.4.1 in /usr/local/lib/python3.11/dist-packages (from widgetsnbextension~=3.6.0->ipywidgets->leafmap) (6.5.5)\n",
            "Requirement already satisfied: soupsieve>1.2 in /usr/local/lib/python3.11/dist-packages (from beautifulsoup4->gdown->leafmap) (2.6)\n",
            "Requirement already satisfied: PySocks!=1.5.7,>=1.5.6 in /usr/local/lib/python3.11/dist-packages (from requests[socks]->gdown->leafmap) (1.7.1)\n",
            "Requirement already satisfied: Click>=6.0 in /usr/local/lib/python3.11/dist-packages (from whitebox->whiteboxgui->leafmap) (8.1.8)\n",
            "Requirement already satisfied: parso<0.9.0,>=0.8.4 in /usr/local/lib/python3.11/dist-packages (from jedi>=0.16->ipython>=4.0.0->ipywidgets->leafmap) (0.8.4)\n",
            "Requirement already satisfied: attrs>=22.2.0 in /usr/local/lib/python3.11/dist-packages (from jsonschema~=4.18->pystac[validation]>=1.10.0->pystac-client->leafmap) (24.3.0)\n",
            "Requirement already satisfied: jsonschema-specifications>=2023.03.6 in /usr/local/lib/python3.11/dist-packages (from jsonschema~=4.18->pystac[validation]>=1.10.0->pystac-client->leafmap) (2024.10.1)\n",
            "Requirement already satisfied: referencing>=0.28.4 in /usr/local/lib/python3.11/dist-packages (from jsonschema~=4.18->pystac[validation]>=1.10.0->pystac-client->leafmap) (0.36.1)\n",
            "Requirement already satisfied: rpds-py>=0.7.1 in /usr/local/lib/python3.11/dist-packages (from jsonschema~=4.18->pystac[validation]>=1.10.0->pystac-client->leafmap) (0.22.3)\n",
            "Requirement already satisfied: pyzmq<25,>=17 in /usr/local/lib/python3.11/dist-packages (from notebook>=4.4.1->widgetsnbextension~=3.6.0->ipywidgets->leafmap) (24.0.1)\n",
            "Requirement already satisfied: argon2-cffi in /usr/local/lib/python3.11/dist-packages (from notebook>=4.4.1->widgetsnbextension~=3.6.0->ipywidgets->leafmap) (23.1.0)\n",
            "Requirement already satisfied: jupyter-core>=4.6.1 in /usr/local/lib/python3.11/dist-packages (from notebook>=4.4.1->widgetsnbextension~=3.6.0->ipywidgets->leafmap) (5.7.2)\n",
            "Requirement already satisfied: nbformat in /usr/local/lib/python3.11/dist-packages (from notebook>=4.4.1->widgetsnbextension~=3.6.0->ipywidgets->leafmap) (5.10.4)\n",
            "Requirement already satisfied: nbconvert>=5 in /usr/local/lib/python3.11/dist-packages (from notebook>=4.4.1->widgetsnbextension~=3.6.0->ipywidgets->leafmap) (7.16.5)\n",
            "Requirement already satisfied: nest-asyncio>=1.5 in /usr/local/lib/python3.11/dist-packages (from notebook>=4.4.1->widgetsnbextension~=3.6.0->ipywidgets->leafmap) (1.6.0)\n",
            "Requirement already satisfied: Send2Trash>=1.8.0 in /usr/local/lib/python3.11/dist-packages (from notebook>=4.4.1->widgetsnbextension~=3.6.0->ipywidgets->leafmap) (1.8.3)\n",
            "Requirement already satisfied: terminado>=0.8.3 in /usr/local/lib/python3.11/dist-packages (from notebook>=4.4.1->widgetsnbextension~=3.6.0->ipywidgets->leafmap) (0.18.1)\n",
            "Requirement already satisfied: prometheus-client in /usr/local/lib/python3.11/dist-packages (from notebook>=4.4.1->widgetsnbextension~=3.6.0->ipywidgets->leafmap) (0.21.1)\n",
            "Requirement already satisfied: nbclassic>=0.4.7 in /usr/local/lib/python3.11/dist-packages (from notebook>=4.4.1->widgetsnbextension~=3.6.0->ipywidgets->leafmap) (1.2.0)\n",
            "Requirement already satisfied: ptyprocess>=0.5 in /usr/local/lib/python3.11/dist-packages (from pexpect>4.3->ipython>=4.0.0->ipywidgets->leafmap) (0.7.0)\n",
            "Requirement already satisfied: wcwidth in /usr/local/lib/python3.11/dist-packages (from prompt-toolkit!=3.0.0,!=3.0.1,<3.1.0,>=2.0.0->ipython>=4.0.0->ipywidgets->leafmap) (0.2.13)\n",
            "Requirement already satisfied: platformdirs>=2.5 in /usr/local/lib/python3.11/dist-packages (from jupyter-core>=4.6.1->notebook>=4.4.1->widgetsnbextension~=3.6.0->ipywidgets->leafmap) (4.3.6)\n",
            "Requirement already satisfied: notebook-shim>=0.2.3 in /usr/local/lib/python3.11/dist-packages (from nbclassic>=0.4.7->notebook>=4.4.1->widgetsnbextension~=3.6.0->ipywidgets->leafmap) (0.2.4)\n",
            "Requirement already satisfied: bleach!=5.0.0 in /usr/local/lib/python3.11/dist-packages (from bleach[css]!=5.0.0->nbconvert>=5->notebook>=4.4.1->widgetsnbextension~=3.6.0->ipywidgets->leafmap) (6.2.0)\n",
            "Requirement already satisfied: defusedxml in /usr/local/lib/python3.11/dist-packages (from nbconvert>=5->notebook>=4.4.1->widgetsnbextension~=3.6.0->ipywidgets->leafmap) (0.7.1)\n",
            "Requirement already satisfied: jupyterlab-pygments in /usr/local/lib/python3.11/dist-packages (from nbconvert>=5->notebook>=4.4.1->widgetsnbextension~=3.6.0->ipywidgets->leafmap) (0.3.0)\n",
            "Requirement already satisfied: mistune<4,>=2.0.3 in /usr/local/lib/python3.11/dist-packages (from nbconvert>=5->notebook>=4.4.1->widgetsnbextension~=3.6.0->ipywidgets->leafmap) (3.1.0)\n",
            "Requirement already satisfied: nbclient>=0.5.0 in /usr/local/lib/python3.11/dist-packages (from nbconvert>=5->notebook>=4.4.1->widgetsnbextension~=3.6.0->ipywidgets->leafmap) (0.10.2)\n",
            "Requirement already satisfied: pandocfilters>=1.4.1 in /usr/local/lib/python3.11/dist-packages (from nbconvert>=5->notebook>=4.4.1->widgetsnbextension~=3.6.0->ipywidgets->leafmap) (1.5.1)\n",
            "Requirement already satisfied: fastjsonschema>=2.15 in /usr/local/lib/python3.11/dist-packages (from nbformat->notebook>=4.4.1->widgetsnbextension~=3.6.0->ipywidgets->leafmap) (2.21.1)\n",
            "Requirement already satisfied: argon2-cffi-bindings in /usr/local/lib/python3.11/dist-packages (from argon2-cffi->notebook>=4.4.1->widgetsnbextension~=3.6.0->ipywidgets->leafmap) (21.2.0)\n",
            "Requirement already satisfied: webencodings in /usr/local/lib/python3.11/dist-packages (from bleach!=5.0.0->bleach[css]!=5.0.0->nbconvert>=5->notebook>=4.4.1->widgetsnbextension~=3.6.0->ipywidgets->leafmap) (0.5.1)\n",
            "Requirement already satisfied: tinycss2<1.5,>=1.1.0 in /usr/local/lib/python3.11/dist-packages (from bleach[css]!=5.0.0->nbconvert>=5->notebook>=4.4.1->widgetsnbextension~=3.6.0->ipywidgets->leafmap) (1.4.0)\n",
            "Requirement already satisfied: jupyter-server<3,>=1.8 in /usr/local/lib/python3.11/dist-packages (from notebook-shim>=0.2.3->nbclassic>=0.4.7->notebook>=4.4.1->widgetsnbextension~=3.6.0->ipywidgets->leafmap) (1.24.0)\n",
            "Requirement already satisfied: cffi>=1.0.1 in /usr/local/lib/python3.11/dist-packages (from argon2-cffi-bindings->argon2-cffi->notebook>=4.4.1->widgetsnbextension~=3.6.0->ipywidgets->leafmap) (1.17.1)\n",
            "Requirement already satisfied: pycparser in /usr/local/lib/python3.11/dist-packages (from cffi>=1.0.1->argon2-cffi-bindings->argon2-cffi->notebook>=4.4.1->widgetsnbextension~=3.6.0->ipywidgets->leafmap) (2.22)\n",
            "Requirement already satisfied: anyio<4,>=3.1.0 in /usr/local/lib/python3.11/dist-packages (from jupyter-server<3,>=1.8->notebook-shim>=0.2.3->nbclassic>=0.4.7->notebook>=4.4.1->widgetsnbextension~=3.6.0->ipywidgets->leafmap) (3.7.1)\n",
            "Requirement already satisfied: websocket-client in /usr/local/lib/python3.11/dist-packages (from jupyter-server<3,>=1.8->notebook-shim>=0.2.3->nbclassic>=0.4.7->notebook>=4.4.1->widgetsnbextension~=3.6.0->ipywidgets->leafmap) (1.8.0)\n",
            "Requirement already satisfied: sniffio>=1.1 in /usr/local/lib/python3.11/dist-packages (from anyio<4,>=3.1.0->jupyter-server<3,>=1.8->notebook-shim>=0.2.3->nbclassic>=0.4.7->notebook>=4.4.1->widgetsnbextension~=3.6.0->ipywidgets->leafmap) (1.3.1)\n",
            "Downloading leafmap-0.42.7-py2.py3-none-any.whl (513 kB)\n",
            "\u001b[2K   \u001b[90m━━━━━━━━━━━━━━━━━━━━━━━━━━━━━━━━━━━━━━━━\u001b[0m \u001b[32m513.3/513.3 kB\u001b[0m \u001b[31m12.4 MB/s\u001b[0m eta \u001b[36m0:00:00\u001b[0m\n",
            "\u001b[?25hDownloading anywidget-0.9.13-py3-none-any.whl (213 kB)\n",
            "\u001b[2K   \u001b[90m━━━━━━━━━━━━━━━━━━━━━━━━━━━━━━━━━━━━━━━━\u001b[0m \u001b[32m213.7/213.7 kB\u001b[0m \u001b[31m14.6 MB/s\u001b[0m eta \u001b[36m0:00:00\u001b[0m\n",
            "\u001b[?25hDownloading geojson-3.2.0-py3-none-any.whl (15 kB)\n",
            "Downloading ipyvuetify-1.10.0-py2.py3-none-any.whl (6.1 MB)\n",
            "\u001b[2K   \u001b[90m━━━━━━━━━━━━━━━━━━━━━━━━━━━━━━━━━━━━━━━━\u001b[0m \u001b[32m6.1/6.1 MB\u001b[0m \u001b[31m69.5 MB/s\u001b[0m eta \u001b[36m0:00:00\u001b[0m\n",
            "\u001b[?25hDownloading pystac_client-0.8.5-py3-none-any.whl (41 kB)\n",
            "\u001b[2K   \u001b[90m━━━━━━━━━━━━━━━━━━━━━━━━━━━━━━━━━━━━━━━━\u001b[0m \u001b[32m41.9/41.9 kB\u001b[0m \u001b[31m2.4 MB/s\u001b[0m eta \u001b[36m0:00:00\u001b[0m\n",
            "\u001b[?25hDownloading whiteboxgui-2.3.0-py2.py3-none-any.whl (108 kB)\n",
            "\u001b[2K   \u001b[90m━━━━━━━━━━━━━━━━━━━━━━━━━━━━━━━━━━━━━━━━\u001b[0m \u001b[32m108.6/108.6 kB\u001b[0m \u001b[31m7.3 MB/s\u001b[0m eta \u001b[36m0:00:00\u001b[0m\n",
            "\u001b[?25hDownloading ipyvue-1.11.2-py2.py3-none-any.whl (2.7 MB)\n",
            "\u001b[2K   \u001b[90m━━━━━━━━━━━━━━━━━━━━━━━━━━━━━━━━━━━━━━━━\u001b[0m \u001b[32m2.7/2.7 MB\u001b[0m \u001b[31m59.9 MB/s\u001b[0m eta \u001b[36m0:00:00\u001b[0m\n",
            "\u001b[?25hDownloading psygnal-0.11.1-cp311-cp311-manylinux_2_17_x86_64.manylinux2014_x86_64.whl (717 kB)\n",
            "\u001b[2K   \u001b[90m━━━━━━━━━━━━━━━━━━━━━━━━━━━━━━━━━━━━━━━━\u001b[0m \u001b[32m717.6/717.6 kB\u001b[0m \u001b[31m29.9 MB/s\u001b[0m eta \u001b[36m0:00:00\u001b[0m\n",
            "\u001b[?25hDownloading pystac-1.12.0-py3-none-any.whl (194 kB)\n",
            "\u001b[2K   \u001b[90m━━━━━━━━━━━━━━━━━━━━━━━━━━━━━━━━━━━━━━━━\u001b[0m \u001b[32m194.1/194.1 kB\u001b[0m \u001b[31m11.9 MB/s\u001b[0m eta \u001b[36m0:00:00\u001b[0m\n",
            "\u001b[?25hDownloading whitebox-2.3.5-py2.py3-none-any.whl (72 kB)\n",
            "\u001b[2K   \u001b[90m━━━━━━━━━━━━━━━━━━━━━━━━━━━━━━━━━━━━━━━━\u001b[0m \u001b[32m72.4/72.4 kB\u001b[0m \u001b[31m5.2 MB/s\u001b[0m eta \u001b[36m0:00:00\u001b[0m\n",
            "\u001b[?25hDownloading jedi-0.19.2-py2.py3-none-any.whl (1.6 MB)\n",
            "\u001b[2K   \u001b[90m━━━━━━━━━━━━━━━━━━━━━━━━━━━━━━━━━━━━━━━━\u001b[0m \u001b[32m1.6/1.6 MB\u001b[0m \u001b[31m48.0 MB/s\u001b[0m eta \u001b[36m0:00:00\u001b[0m\n",
            "\u001b[?25hInstalling collected packages: whitebox, psygnal, jedi, geojson, pystac, pystac-client, ipyvue, anywidget, whiteboxgui, ipyvuetify, leafmap\n",
            "Successfully installed anywidget-0.9.13 geojson-3.2.0 ipyvue-1.11.2 ipyvuetify-1.10.0 jedi-0.19.2 leafmap-0.42.7 psygnal-0.11.1 pystac-1.12.0 pystac-client-0.8.5 whitebox-2.3.5 whiteboxgui-2.3.0\n"
          ]
        }
      ],
      "source": [
        "%pip install duckdb leafmap"
      ],
      "id": "DmREYA4HAMws"
    },
    {
      "cell_type": "markdown",
      "metadata": {
        "id": "EoR8EBIhAMwt"
      },
      "source": [
        "## Library Import and Configuration"
      ],
      "id": "EoR8EBIhAMwt"
    },
    {
      "cell_type": "code",
      "execution_count": null,
      "metadata": {
        "id": "8mnvHUl_AMwt"
      },
      "outputs": [],
      "source": [
        "import duckdb\n",
        "import leafmap"
      ],
      "id": "8mnvHUl_AMwt"
    },
    {
      "cell_type": "markdown",
      "metadata": {
        "id": "21GaQzR6AMwt"
      },
      "source": [
        "## Sample Data\n",
        "\n",
        "The datasets in the database are in NAD83 / UTM zone 18N projection, EPSG:26918."
      ],
      "id": "21GaQzR6AMwt"
    },
    {
      "cell_type": "code",
      "execution_count": null,
      "metadata": {
        "id": "dl3ZlyBpAMwu",
        "outputId": "c6f1539b-6e0f-4523-d448-cf4ebb1f8eb2"
      },
      "outputs": [
        {
          "name": "stdout",
          "output_type": "stream",
          "text": [
            "nyc_data.db.zip already exists. Skip downloading. Set overwrite=True to overwrite.\n"
          ]
        },
        {
          "data": {
            "text/plain": [
              "'/media/hdd/Dropbox/git/geog-414/book/duckdb/nyc_data.db.zip'"
            ]
          },
          "execution_count": 3,
          "metadata": {},
          "output_type": "execute_result"
        }
      ],
      "source": [
        "url = \"https://open.gishub.org/data/duckdb/nyc_data.db.zip\"\n",
        "leafmap.download_file(url, unzip=True)"
      ],
      "id": "dl3ZlyBpAMwu"
    },
    {
      "cell_type": "markdown",
      "metadata": {
        "id": "p0EAcTAIAMwv"
      },
      "source": [
        "## Connecting to DuckDB\n",
        "\n",
        "Connect jupysql to DuckDB using a SQLAlchemy-style connection string. You may either connect to an in memory DuckDB, or a file backed db."
      ],
      "id": "p0EAcTAIAMwv"
    },
    {
      "cell_type": "code",
      "execution_count": null,
      "metadata": {
        "id": "W0cWh5EoAMwv"
      },
      "outputs": [],
      "source": [
        "con = duckdb.connect('nyc_data.db')"
      ],
      "id": "W0cWh5EoAMwv"
    },
    {
      "cell_type": "code",
      "execution_count": null,
      "metadata": {
        "id": "_-NshcQ4AMww"
      },
      "outputs": [],
      "source": [
        "con.install_extension('spatial')\n",
        "con.load_extension('spatial')"
      ],
      "id": "_-NshcQ4AMww"
    },
    {
      "cell_type": "code",
      "execution_count": null,
      "metadata": {
        "id": "et863R05AMww",
        "outputId": "fdc7fe26-1e94-4109-d624-1a4da2dd3077"
      },
      "outputs": [
        {
          "data": {
            "text/plain": [
              "┌─────────────────────┐\n",
              "│        name         │\n",
              "│       varchar       │\n",
              "├─────────────────────┤\n",
              "│ nyc_census_blocks   │\n",
              "│ nyc_homicides       │\n",
              "│ nyc_neighborhoods   │\n",
              "│ nyc_streets         │\n",
              "│ nyc_subway_stations │\n",
              "│ samples             │\n",
              "└─────────────────────┘"
            ]
          },
          "execution_count": 6,
          "metadata": {},
          "output_type": "execute_result"
        }
      ],
      "source": [
        "con.sql(\"SHOW TABLES;\")"
      ],
      "id": "et863R05AMww"
    },
    {
      "cell_type": "code",
      "execution_count": null,
      "metadata": {
        "scrolled": false,
        "id": "I3f8stcRAMww",
        "outputId": "3ef2c58d-0456-4a13-dfe8-ea2dc715abe8"
      },
      "outputs": [
        {
          "data": {
            "text/plain": [
              "┌──────────┬────────┬──────────────┬─────────────────┬───┬─────────┬─────────┬─────────┬──────────────────────┐\n",
              "│ OBJECTID │   ID   │     NAME     │    ALT_NAME     │ … │  COLOR  │ EXPRESS │ CLOSED  │         geom         │\n",
              "│  double  │ double │   varchar    │     varchar     │   │ varchar │ varchar │ varchar │       geometry       │\n",
              "├──────────┼────────┼──────────────┼─────────────────┼───┼─────────┼─────────┼─────────┼──────────────────────┤\n",
              "│      1.0 │  376.0 │ Cortlandt St │ NULL            │ … │ YELLOW  │ NULL    │ NULL    │ POINT (583521.8544…  │\n",
              "│      2.0 │    2.0 │ Rector St    │ NULL            │ … │ RED     │ NULL    │ NULL    │ POINT (583324.4866…  │\n",
              "│      3.0 │    1.0 │ South Ferry  │ NULL            │ … │ RED     │ NULL    │ NULL    │ POINT (583304.1823…  │\n",
              "│      4.0 │  125.0 │ 138th St     │ Grand Concourse │ … │ GREEN   │ NULL    │ NULL    │ POINT (590250.1059…  │\n",
              "│      5.0 │  126.0 │ 149th St     │ Grand Concourse │ … │ GREEN   │ express │ NULL    │ POINT (590454.7399…  │\n",
              "├──────────┴────────┴──────────────┴─────────────────┴───┴─────────┴─────────┴─────────┴──────────────────────┤\n",
              "│ 5 rows                                                                                 15 columns (8 shown) │\n",
              "└─────────────────────────────────────────────────────────────────────────────────────────────────────────────┘"
            ]
          },
          "execution_count": 7,
          "metadata": {},
          "output_type": "execute_result"
        }
      ],
      "source": [
        "con.sql(\"SELECT * from nyc_subway_stations LIMIT 5\")"
      ],
      "id": "I3f8stcRAMww"
    },
    {
      "cell_type": "markdown",
      "metadata": {
        "id": "55KDhmzPAMww"
      },
      "source": [
        "## Spatial Relationships\n",
        "\n",
        "So far we have only used spatial functions that measure (`ST_Area`,\n",
        "`ST_Length`), serialize (`ST_GeomFromText`) or deserialize (`ST_AsGML`)\n",
        "geometries. What these functions have in common is that they only work\n",
        "on one geometry at a time.\n",
        "\n",
        "Spatial databases are powerful because they not only store geometry,\n",
        "they also have the ability to compare *relationships between\n",
        "geometries*.\n",
        "\n",
        "Questions like \"Which are the closest bike racks to a park?\" or \"Where\n",
        "are the intersections of subway lines and streets?\" can only be answered\n",
        "by comparing geometries representing the bike racks, streets, and subway\n",
        "lines.\n",
        "\n",
        "The OGC standard defines the following set of methods to compare\n",
        "geometries."
      ],
      "id": "55KDhmzPAMww"
    },
    {
      "cell_type": "markdown",
      "metadata": {
        "id": "qPJIlDR7AMwx"
      },
      "source": [
        "## ST_Equals\n",
        "\n",
        "`ST_Equals(geometry A, geometry B)`tests the spatial equality of two geometries.\n",
        "\n",
        "![](https://postgis.net/workshops/postgis-intro/_images/st_equals.png)\n",
        "\n",
        "ST_Equals returns TRUE if two geometries of the same type have identical\n",
        "x,y coordinate values, i.e. if the second shape is equal (identical) to\n",
        "the first shape.\n",
        "\n",
        "First, let\\'s retrieve a representation of a point from our\n",
        "`nyc_subway_stations` table. We\\'ll take just the entry for \\'Broad\n",
        "St\\'."
      ],
      "id": "qPJIlDR7AMwx"
    },
    {
      "cell_type": "code",
      "execution_count": null,
      "metadata": {
        "id": "kbjP-cJ8AMwx",
        "outputId": "3ef7c582-8ce2-4b89-861c-32f18cd49719"
      },
      "outputs": [
        {
          "data": {
            "text/plain": [
              "┌──────────┬─────────────────────────────────────────────┬─────────────────────────────────────────────┐\n",
              "│   NAME   │                    geom                     │               st_astext(geom)               │\n",
              "│ varchar  │                  geometry                   │                   varchar                   │\n",
              "├──────────┼─────────────────────────────────────────────┼─────────────────────────────────────────────┤\n",
              "│ Broad St │ POINT (583571.9059213118 4506714.341192182) │ POINT (583571.9059213118 4506714.341192182) │\n",
              "└──────────┴─────────────────────────────────────────────┴─────────────────────────────────────────────┘"
            ]
          },
          "execution_count": 8,
          "metadata": {},
          "output_type": "execute_result"
        }
      ],
      "source": [
        "con.sql(\"\"\"\n",
        "SELECT name, geom, ST_AsText(geom)\n",
        "FROM nyc_subway_stations\n",
        "WHERE name = 'Broad St';\n",
        "\"\"\")"
      ],
      "id": "kbjP-cJ8AMwx"
    },
    {
      "cell_type": "markdown",
      "metadata": {
        "id": "0y8zWlFKAMwx"
      },
      "source": [
        "Then, plug the geometry representation back into an\n",
        "`ST_Equals` test:"
      ],
      "id": "0y8zWlFKAMwx"
    },
    {
      "cell_type": "code",
      "execution_count": null,
      "metadata": {
        "id": "1Lex4omCAMwx",
        "outputId": "421e688a-a7ce-4a54-c76e-b1fb6f858b44"
      },
      "outputs": [
        {
          "data": {
            "text/plain": [
              "┌──────────┐\n",
              "│   NAME   │\n",
              "│ varchar  │\n",
              "├──────────┤\n",
              "│ Broad St │\n",
              "└──────────┘"
            ]
          },
          "execution_count": 9,
          "metadata": {},
          "output_type": "execute_result"
        }
      ],
      "source": [
        "con.sql(\"\"\"\n",
        "SELECT name\n",
        "FROM nyc_subway_stations\n",
        "WHERE ST_Equals(geom, ST_GeomFromText('POINT (583571.9059213118 4506714.341192182)'));\n",
        "\"\"\")"
      ],
      "id": "1Lex4omCAMwx"
    },
    {
      "cell_type": "markdown",
      "metadata": {
        "id": "31Z4TbUxAMwx"
      },
      "source": [
        "## ST_Intersects, ST_Disjoint, ST_Crosses and ST_Overlaps\n",
        "\n",
        "`ST_Intersects`,\n",
        "`ST_Crosses`, and\n",
        "`ST_Overlaps` test whether the\n",
        "interiors of the geometries intersect.\n",
        "\n",
        "![](https://postgis.net/workshops/postgis-intro/_images/st_intersects.png)\n",
        "\n",
        "`ST_Intersects(geometry A, geometry B)` returns t (TRUE) if the two shapes have any space in\n",
        "common, i.e., if their boundaries or interiors intersect.\n",
        "\n",
        "![](https://postgis.net/workshops/postgis-intro/_images/st_disjoint.png)\n",
        "\n",
        "The opposite of ST_Intersects is\n",
        "`ST_Disjoint(geometry A , geometry B)`. If two geometries are disjoint, they do not intersect,\n",
        "and vice-versa. In fact, it is often more efficient to test \\\"not\n",
        "intersects\\\" than to test \\\"disjoint\\\" because the intersects tests can\n",
        "be spatially indexed, while the disjoint test cannot.\n",
        "\n",
        "![](https://postgis.net/workshops/postgis-intro/_images/st_crosses.png)\n",
        "\n",
        "For multipoint/polygon, multipoint/linestring, linestring/linestring,\n",
        "linestring/polygon, and linestring/multipolygon comparisons,\n",
        "`ST_Crosses(geometry A, geometry B)`\n",
        "returns t (TRUE) if the intersection results in a geometry whose\n",
        "dimension is one less than the maximum dimension of the two source\n",
        "geometries and the intersection set is interior to both source\n",
        "geometries.\n",
        "\n",
        "![](https://postgis.net/workshops/postgis-intro/_images/st_overlaps.png)\n",
        "\n",
        "`ST_Overlaps(geometry A, geometry B)`\n",
        "compares two geometries of the same dimension and returns TRUE if their\n",
        "intersection set results in a geometry different from both but of the\n",
        "same dimension.\n",
        "\n",
        "Let\\'s take our Broad Street subway station and determine its\n",
        "neighborhood using the `ST_Intersects`\n",
        "function:"
      ],
      "id": "31Z4TbUxAMwx"
    },
    {
      "cell_type": "code",
      "execution_count": null,
      "metadata": {
        "id": "GaXvHbutAMwy",
        "outputId": "02d60c8b-f6b1-4b19-e328-ce3a1ede673e"
      },
      "outputs": [
        {
          "data": {
            "text/plain": [
              "┌──────────┬─────────────────────────────────────────────┐\n",
              "│   NAME   │               st_astext(geom)               │\n",
              "│ varchar  │                   varchar                   │\n",
              "├──────────┼─────────────────────────────────────────────┤\n",
              "│ Broad St │ POINT (583571.9059213118 4506714.341192182) │\n",
              "└──────────┴─────────────────────────────────────────────┘"
            ]
          },
          "execution_count": 10,
          "metadata": {},
          "output_type": "execute_result"
        }
      ],
      "source": [
        "con.sql(\"\"\"\n",
        "SELECT name, ST_AsText(geom)\n",
        "FROM nyc_subway_stations\n",
        "WHERE name = 'Broad St';\n",
        "\"\"\")"
      ],
      "id": "GaXvHbutAMwy"
    },
    {
      "cell_type": "code",
      "execution_count": null,
      "metadata": {
        "id": "D6k-0sAJAMwy",
        "outputId": "64152ef1-11f3-4919-dae4-b37a6012e3aa"
      },
      "outputs": [
        {
          "data": {
            "text/plain": [
              "┌───────────┬──────────────────────┬───────────────────────────────────────────────────────────────────────────────────┐\n",
              "│ BORONAME  │         NAME         │                                       geom                                        │\n",
              "│  varchar  │       varchar        │                                     geometry                                      │\n",
              "├───────────┼──────────────────────┼───────────────────────────────────────────────────────────────────────────────────┤\n",
              "│ Brooklyn  │ Bensonhurst          │ MULTIPOLYGON (((582771.4257198056 4495167.427365481, 584651.2943549604 4497541.…  │\n",
              "│ Manhattan │ East Village         │ MULTIPOLYGON (((585508.7534890148 4509691.267208001, 586826.3570590394 4508984.…  │\n",
              "│ Manhattan │ West Village         │ MULTIPOLYGON (((583263.2776595836 4509242.626023987, 583276.8199068634 4509378.…  │\n",
              "│ The Bronx │ Throggs Neck         │ MULTIPOLYGON (((597640.0090688139 4520272.719938631, 597647.7457808304 4520617.…  │\n",
              "│ The Bronx │ Wakefield-Williams…  │ MULTIPOLYGON (((595285.2053417757 4525938.79838847, 595348.5452399419 4526158.7…  │\n",
              "└───────────┴──────────────────────┴───────────────────────────────────────────────────────────────────────────────────┘"
            ]
          },
          "execution_count": 11,
          "metadata": {},
          "output_type": "execute_result"
        }
      ],
      "source": [
        "con.sql(\"FROM nyc_neighborhoods LIMIT 5\")"
      ],
      "id": "D6k-0sAJAMwy"
    },
    {
      "cell_type": "code",
      "execution_count": null,
      "metadata": {
        "id": "hXG-NhfIAMwy",
        "outputId": "32871b7f-866b-41de-8d86-9009419fc17c"
      },
      "outputs": [
        {
          "data": {
            "text/plain": [
              "┌────────────────────┬───────────┐\n",
              "│        NAME        │ BORONAME  │\n",
              "│      varchar       │  varchar  │\n",
              "├────────────────────┼───────────┤\n",
              "│ Financial District │ Manhattan │\n",
              "└────────────────────┴───────────┘"
            ]
          },
          "execution_count": 12,
          "metadata": {},
          "output_type": "execute_result"
        }
      ],
      "source": [
        "con.sql(\"\"\"\n",
        "SELECT name, boroname\n",
        "FROM nyc_neighborhoods\n",
        "WHERE ST_Intersects(geom, ST_GeomFromText('POINT(583571 4506714)'));\n",
        "\"\"\")"
      ],
      "id": "hXG-NhfIAMwy"
    },
    {
      "cell_type": "markdown",
      "metadata": {
        "id": "e9UwlEBkAMwy"
      },
      "source": [
        "## ST_Touches\n",
        "\n",
        "`ST_Touches` tests whether two\n",
        "geometries touch at their boundaries, but do not intersect in their\n",
        "interiors\n",
        "\n",
        "![](https://postgis.net/workshops/postgis-intro/_images/st_touches.png)\n",
        "\n",
        "`ST_Touches(geometry A, geometry B)`\n",
        "returns TRUE if either of the geometries\\' boundaries intersect or if\n",
        "only one of the geometry\\'s interiors intersects the other\\'s boundary.\n",
        "\n",
        "## ST_Within and ST_Contains\n",
        "\n",
        "`ST_Within` and\n",
        "`ST_Contains` test whether one\n",
        "geometry is fully within the other.\n",
        "\n",
        "![](https://postgis.net/workshops/postgis-intro/_images/st_within.png)\n",
        "\n",
        "`ST_Within(geometry A , geometry B)`\n",
        "returns TRUE if the first geometry is completely within the second\n",
        "geometry. ST_Within tests for the exact opposite result of ST_Contains.\n",
        "\n",
        "`ST_Contains(geometry A, geometry B)`\n",
        "returns TRUE if the second geometry is completely contained by the first\n",
        "geometry.\n",
        "\n",
        "## ST_Distance and ST_DWithin\n",
        "\n",
        "An extremely common GIS question is \\\"find all the stuff within distance\n",
        "X of this other stuff\\\".\n",
        "\n",
        "The `ST_Distance(geometry A, geometry B)` calculates the *shortest* distance between two\n",
        "geometries and returns it as a float. This is useful for actually\n",
        "reporting back the distance between objects."
      ],
      "id": "e9UwlEBkAMwy"
    },
    {
      "cell_type": "code",
      "execution_count": null,
      "metadata": {
        "id": "0_ebx3xXAMwz",
        "outputId": "feeadbd5-7f3d-4cd1-f193-6893f17bc0bb"
      },
      "outputs": [
        {
          "data": {
            "text/plain": [
              "┌────────┐\n",
              "│  dist  │\n",
              "│ double │\n",
              "├────────┤\n",
              "│    3.0 │\n",
              "└────────┘"
            ]
          },
          "execution_count": 13,
          "metadata": {},
          "output_type": "execute_result"
        }
      ],
      "source": [
        "con.sql(\"\"\"\n",
        "SELECT ST_Distance(\n",
        "  ST_GeomFromText('POINT(0 5)'),\n",
        "  ST_GeomFromText('LINESTRING(-2 2, 2 2)')) as dist;\n",
        "\"\"\")"
      ],
      "id": "0_ebx3xXAMwz"
    },
    {
      "cell_type": "markdown",
      "metadata": {
        "id": "ybEnb5_3AMwz"
      },
      "source": [
        "For testing whether two objects are within a distance of one another,\n",
        "the `ST_DWithin` function provides an\n",
        "index-accelerated true/false test. This is useful for questions like\n",
        "\\\"how many trees are within a 500 meter buffer of the road?\\\". You\n",
        "don\\'t have to calculate an actual buffer, you just have to test the\n",
        "distance relationship.\n",
        "\n",
        "![](https://postgis.net/workshops/postgis-intro/_images/st_dwithin.png)\n",
        "\n",
        "Using our Broad Street subway station again, we can find the streets\n",
        "nearby (within 10 meters of) the subway stop:"
      ],
      "id": "ybEnb5_3AMwz"
    },
    {
      "cell_type": "code",
      "execution_count": null,
      "metadata": {
        "id": "S_CCUMFXAMwz",
        "outputId": "2d708fdd-7dc1-4c9c-e0b2-8e7a0681a012"
      },
      "outputs": [
        {
          "data": {
            "text/plain": [
              "┌───────┬─────────────┬─────────┬───────────────┬──────────────────────────────────────────────────────────────────────┐\n",
              "│  ID   │    NAME     │ ONEWAY  │     TYPE      │                                 geom                                 │\n",
              "│ int32 │   varchar   │ varchar │    varchar    │                               geometry                               │\n",
              "├───────┼─────────────┼─────────┼───────────────┼──────────────────────────────────────────────────────────────────────┤\n",
              "│     1 │ Shore Pky S │ NULL    │ residential   │ MULTILINESTRING ((586785.4767897038 4492901.0014554765, 586898.232…  │\n",
              "│     2 │ NULL        │ NULL    │ footway       │ MULTILINESTRING ((586645.0073625665 4504977.750360583, 586664.2248…  │\n",
              "│     3 │ Avenue O    │ NULL    │ residential   │ MULTILINESTRING ((586750.3019977848 4496109.72213903, 586837.37268…  │\n",
              "│     4 │ Walsh Ct    │ NULL    │ residential   │ MULTILINESTRING ((586728.695515043 4497971.05313857, 586886.358225…  │\n",
              "│     5 │ NULL        │ NULL    │ motorway_link │ MULTILINESTRING ((586587.0531467082 4510088.250402982, 586641.7339…  │\n",
              "└───────┴─────────────┴─────────┴───────────────┴──────────────────────────────────────────────────────────────────────┘"
            ]
          },
          "execution_count": 14,
          "metadata": {},
          "output_type": "execute_result"
        }
      ],
      "source": [
        "con.sql(\"FROM nyc_streets LIMIT 5\")"
      ],
      "id": "S_CCUMFXAMwz"
    },
    {
      "cell_type": "code",
      "execution_count": null,
      "metadata": {
        "id": "KrRm1nPjAMwz",
        "outputId": "c30cfa48-f89d-4a79-f1d1-140f56ad7b39"
      },
      "outputs": [
        {
          "data": {
            "text/plain": [
              "┌───────────┐\n",
              "│   NAME    │\n",
              "│  varchar  │\n",
              "├───────────┤\n",
              "│ Wall St   │\n",
              "│ Broad St  │\n",
              "│ Nassau St │\n",
              "└───────────┘"
            ]
          },
          "execution_count": 15,
          "metadata": {},
          "output_type": "execute_result"
        }
      ],
      "source": [
        "con.sql(\"\"\"\n",
        "SELECT name\n",
        "FROM nyc_streets\n",
        "WHERE ST_DWithin(\n",
        "        geom,\n",
        "        ST_GeomFromText('POINT(583571 4506714)'),\n",
        "        10\n",
        "      );\n",
        "\"\"\")"
      ],
      "id": "KrRm1nPjAMwz"
    },
    {
      "cell_type": "markdown",
      "metadata": {
        "id": "bl25Ri4jAMw0"
      },
      "source": [
        "And we can verify the answer on a map. The Broad St station is actually\n",
        "at the intersection of Wall, Broad and Nassau Streets.\n",
        "\n",
        "![image](https://postgis.net/workshops/postgis-intro/_images/broad_st.jpg)\n",
        "\n",
        "## Function List\n",
        "\n",
        "[ST_Contains(geometry A, geometry\n",
        "B)](http://postgis.net/docs/ST_Contains.html): Returns true if and only\n",
        "if no points of B lie in the exterior of A, and at least one point of\n",
        "the interior of B lies in the interior of A.\n",
        "\n",
        "[ST_Crosses(geometry A, geometry\n",
        "B)](http://postgis.net/docs/ST_Crosses.html): Returns TRUE if the\n",
        "supplied geometries have some, but not all, interior points in common.\n",
        "\n",
        "[ST_Disjoint(geometry A , geometry\n",
        "B)](http://postgis.net/docs/ST_Disjoint.html): Returns TRUE if the\n",
        "Geometries do not \\\"spatially intersect\\\" - if they do not share any\n",
        "space together.\n",
        "\n",
        "[ST_Distance(geometry A, geometry\n",
        "B)](http://postgis.net/docs/ST_Distance.html): Returns the 2-dimensional\n",
        "cartesian minimum distance (based on spatial ref) between two geometries\n",
        "in projected units.\n",
        "\n",
        "[ST_DWithin(geometry A, geometry B,\n",
        "radius)](http://postgis.net/docs/ST_DWithin.html): Returns true if the\n",
        "geometries are within the specified distance (radius) of one another.\n",
        "\n",
        "[ST_Equals(geometry A, geometry\n",
        "B)](http://postgis.net/docs/ST_Equals.html): Returns true if the given\n",
        "geometries represent the same geometry. Directionality is ignored.\n",
        "\n",
        "[ST_Intersects(geometry A, geometry\n",
        "B)](http://postgis.net/docs/ST_Intersects.html): Returns TRUE if the\n",
        "Geometries/Geography \\\"spatially intersect\\\" - (share any portion of\n",
        "space) and FALSE if they don\\'t (they are Disjoint).\n",
        "\n",
        "[ST_Overlaps(geometry A, geometry\n",
        "B)](http://postgis.net/docs/ST_Overlaps.html): Returns TRUE if the\n",
        "Geometries share space, are of the same dimension, but are not\n",
        "completely contained by each other.\n",
        "\n",
        "[ST_Touches(geometry A, geometry\n",
        "B)](http://postgis.net/docs/ST_Touches.html): Returns TRUE if the\n",
        "geometries have at least one point in common, but their interiors do not\n",
        "intersect.\n",
        "\n",
        "[ST_Within(geometry A , geometry\n",
        "B)](http://postgis.net/docs/ST_Within.html): Returns true if the\n",
        "geometry A is completely inside geometry B\n"
      ],
      "id": "bl25Ri4jAMw0"
    }
  ],
  "metadata": {
    "hide_input": false,
    "kernelspec": {
      "display_name": "Python 3",
      "language": "python",
      "name": "python3"
    },
    "language_info": {
      "codemirror_mode": {
        "name": "ipython",
        "version": 3
      },
      "file_extension": ".py",
      "mimetype": "text/x-python",
      "name": "python",
      "nbconvert_exporter": "python",
      "pygments_lexer": "ipython3",
      "version": "3.11.5"
    },
    "toc": {
      "base_numbering": 1,
      "nav_menu": {},
      "number_sections": true,
      "sideBar": true,
      "skip_h1_title": false,
      "title_cell": "Table of Contents",
      "title_sidebar": "Contents",
      "toc_cell": false,
      "toc_position": {},
      "toc_section_display": true,
      "toc_window_display": true
    },
    "varInspector": {
      "cols": {
        "lenName": 16,
        "lenType": 16,
        "lenVar": 40
      },
      "kernels_config": {
        "python": {
          "delete_cmd_postfix": "",
          "delete_cmd_prefix": "del ",
          "library": "var_list.py",
          "varRefreshCmd": "print(var_dic_list())"
        },
        "r": {
          "delete_cmd_postfix": ") ",
          "delete_cmd_prefix": "rm(",
          "library": "var_list.r",
          "varRefreshCmd": "cat(var_dic_list()) "
        }
      },
      "types_to_exclude": [
        "module",
        "function",
        "builtin_function_or_method",
        "instance",
        "_Feature"
      ],
      "window_display": false
    },
    "colab": {
      "provenance": [],
      "include_colab_link": true
    }
  },
  "nbformat": 4,
  "nbformat_minor": 5
}